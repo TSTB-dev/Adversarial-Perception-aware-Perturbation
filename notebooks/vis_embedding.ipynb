{
 "cells": [
  {
   "cell_type": "code",
   "execution_count": 3,
   "metadata": {},
   "outputs": [],
   "source": [
    "import os\n",
    "import sys\n",
    "sys.path.append('../')\n",
    "\n",
    "from diffusers import StableUnCLIPImg2ImgPipeline\n",
    "from diffusers.utils import load_image\n",
    "from tqdm import tqdm\n",
    "import numpy as np\n",
    "from openai import OpenAI\n",
    "import torch\n",
    "\n",
    "from PIL import Image\n",
    "import os\n",
    "\n",
    "from dataset import PetsDataset"
   ]
  },
  {
   "cell_type": "code",
   "execution_count": 4,
   "metadata": {},
   "outputs": [
    {
     "name": "stdout",
     "output_type": "stream",
     "text": [
      "cuda:1\n"
     ]
    }
   ],
   "source": [
    "device = torch.device(\"mps\" if torch.backends.mps.is_available() else \"cuda:1\" if torch.cuda.is_available() else \"cpu\")\n",
    "print(device)"
   ]
  },
  {
   "cell_type": "code",
   "execution_count": 5,
   "metadata": {},
   "outputs": [],
   "source": [
    "os.environ[\"OPENAI_API_KEY\"] = \"\"\n",
    "assert \"YOUR_API_KEY\" != os.environ[\"OPENAI_API_KEY\"], \"Please set your OpenAI API key in the environment variable\""
   ]
  },
  {
   "cell_type": "code",
   "execution_count": 6,
   "metadata": {},
   "outputs": [
    {
     "data": {
      "application/vnd.jupyter.widget-view+json": {
       "model_id": "8c9d8670fb1c420b940d6fb8c63fed04",
       "version_major": 2,
       "version_minor": 0
      },
      "text/plain": [
       "model_index.json:   0%|          | 0.00/707 [00:00<?, ?B/s]"
      ]
     },
     "metadata": {},
     "output_type": "display_data"
    },
    {
     "data": {
      "application/vnd.jupyter.widget-view+json": {
       "model_id": "0e44386f805a49edb1bf6d469ba1100e",
       "version_major": 2,
       "version_minor": 0
      },
      "text/plain": [
       "Fetching 18 files:   0%|          | 0/18 [00:00<?, ?it/s]"
      ]
     },
     "metadata": {},
     "output_type": "display_data"
    },
    {
     "data": {
      "application/vnd.jupyter.widget-view+json": {
       "model_id": "518f63fbc3a64afcb96b04611e2b976f",
       "version_major": 2,
       "version_minor": 0
      },
      "text/plain": [
       "image_encoder/config.json:   0%|          | 0.00/560 [00:00<?, ?B/s]"
      ]
     },
     "metadata": {},
     "output_type": "display_data"
    },
    {
     "data": {
      "application/vnd.jupyter.widget-view+json": {
       "model_id": "46bbaa27dbbf4126b6f1342d37148313",
       "version_major": 2,
       "version_minor": 0
      },
      "text/plain": [
       "(…)_noising_scheduler/scheduler_config.json:   0%|          | 0.00/424 [00:00<?, ?B/s]"
      ]
     },
     "metadata": {},
     "output_type": "display_data"
    },
    {
     "data": {
      "application/vnd.jupyter.widget-view+json": {
       "model_id": "5d909c53437f4422b2dfb8698625c725",
       "version_major": 2,
       "version_minor": 0
      },
      "text/plain": [
       "text_encoder/config.json:   0%|          | 0.00/597 [00:00<?, ?B/s]"
      ]
     },
     "metadata": {},
     "output_type": "display_data"
    },
    {
     "data": {
      "application/vnd.jupyter.widget-view+json": {
       "model_id": "b520cdab933249fd893ab59bebf3158e",
       "version_major": 2,
       "version_minor": 0
      },
      "text/plain": [
       "(…)ature_extractor/preprocessor_config.json:   0%|          | 0.00/466 [00:00<?, ?B/s]"
      ]
     },
     "metadata": {},
     "output_type": "display_data"
    },
    {
     "data": {
      "application/vnd.jupyter.widget-view+json": {
       "model_id": "978020562c734f958966567ed2a0e724",
       "version_major": 2,
       "version_minor": 0
      },
      "text/plain": [
       "tokenizer/merges.txt:   0%|          | 0.00/525k [00:00<?, ?B/s]"
      ]
     },
     "metadata": {},
     "output_type": "display_data"
    },
    {
     "data": {
      "application/vnd.jupyter.widget-view+json": {
       "model_id": "52941b4e605b4de8a382f20c3b0dc56e",
       "version_major": 2,
       "version_minor": 0
      },
      "text/plain": [
       "model.safetensors:   0%|          | 0.00/2.53G [00:00<?, ?B/s]"
      ]
     },
     "metadata": {},
     "output_type": "display_data"
    },
    {
     "data": {
      "application/vnd.jupyter.widget-view+json": {
       "model_id": "ed778d2df6a74a1c8f6afacde1c756dd",
       "version_major": 2,
       "version_minor": 0
      },
      "text/plain": [
       "scheduler/scheduler_config.json:   0%|          | 0.00/470 [00:00<?, ?B/s]"
      ]
     },
     "metadata": {},
     "output_type": "display_data"
    },
    {
     "data": {
      "application/vnd.jupyter.widget-view+json": {
       "model_id": "7bb5c6c247214cc09d7693c9041b7c5f",
       "version_major": 2,
       "version_minor": 0
      },
      "text/plain": [
       "image_normalizer/config.json:   0%|          | 0.00/156 [00:00<?, ?B/s]"
      ]
     },
     "metadata": {},
     "output_type": "display_data"
    },
    {
     "data": {
      "application/vnd.jupyter.widget-view+json": {
       "model_id": "eedf556a625a4735bbdc235613d4f135",
       "version_major": 2,
       "version_minor": 0
      },
      "text/plain": [
       "tokenizer/special_tokens_map.json:   0%|          | 0.00/460 [00:00<?, ?B/s]"
      ]
     },
     "metadata": {},
     "output_type": "display_data"
    },
    {
     "data": {
      "application/vnd.jupyter.widget-view+json": {
       "model_id": "fdeadba1c31b4cc48a145113949e7acf",
       "version_major": 2,
       "version_minor": 0
      },
      "text/plain": [
       "diffusion_pytorch_model.safetensors:   0%|          | 0.00/8.36k [00:00<?, ?B/s]"
      ]
     },
     "metadata": {},
     "output_type": "display_data"
    },
    {
     "data": {
      "application/vnd.jupyter.widget-view+json": {
       "model_id": "3c8220a6a50345c38196a82e78ad7616",
       "version_major": 2,
       "version_minor": 0
      },
      "text/plain": [
       "model.safetensors:   0%|          | 0.00/1.36G [00:00<?, ?B/s]"
      ]
     },
     "metadata": {},
     "output_type": "display_data"
    },
    {
     "data": {
      "application/vnd.jupyter.widget-view+json": {
       "model_id": "a0baf3dbd39a4f729a2e915a9f3ca862",
       "version_major": 2,
       "version_minor": 0
      },
      "text/plain": [
       "unet/config.json:   0%|          | 0.00/1.32k [00:00<?, ?B/s]"
      ]
     },
     "metadata": {},
     "output_type": "display_data"
    },
    {
     "data": {
      "application/vnd.jupyter.widget-view+json": {
       "model_id": "d7cb4fe46bab419c823a5a92c814a98c",
       "version_major": 2,
       "version_minor": 0
      },
      "text/plain": [
       "tokenizer/tokenizer_config.json:   0%|          | 0.00/755 [00:00<?, ?B/s]"
      ]
     },
     "metadata": {},
     "output_type": "display_data"
    },
    {
     "data": {
      "application/vnd.jupyter.widget-view+json": {
       "model_id": "a03679885dbc4778ba6d2ce11bdb62ac",
       "version_major": 2,
       "version_minor": 0
      },
      "text/plain": [
       "tokenizer/vocab.json:   0%|          | 0.00/1.06M [00:00<?, ?B/s]"
      ]
     },
     "metadata": {},
     "output_type": "display_data"
    },
    {
     "data": {
      "application/vnd.jupyter.widget-view+json": {
       "model_id": "9aa67e55a85d4adab387edd1cb99d554",
       "version_major": 2,
       "version_minor": 0
      },
      "text/plain": [
       "vae/config.json:   0%|          | 0.00/610 [00:00<?, ?B/s]"
      ]
     },
     "metadata": {},
     "output_type": "display_data"
    },
    {
     "data": {
      "application/vnd.jupyter.widget-view+json": {
       "model_id": "12e2309507154d4bb820eb4e7a148fa8",
       "version_major": 2,
       "version_minor": 0
      },
      "text/plain": [
       "diffusion_pytorch_model.safetensors:   0%|          | 0.00/3.48G [00:00<?, ?B/s]"
      ]
     },
     "metadata": {},
     "output_type": "display_data"
    },
    {
     "data": {
      "application/vnd.jupyter.widget-view+json": {
       "model_id": "b895621b1fd942bd9572ac3137051a8a",
       "version_major": 2,
       "version_minor": 0
      },
      "text/plain": [
       "diffusion_pytorch_model.safetensors:   0%|          | 0.00/335M [00:00<?, ?B/s]"
      ]
     },
     "metadata": {},
     "output_type": "display_data"
    },
    {
     "name": "stderr",
     "output_type": "stream",
     "text": [
      "Keyword arguments {'variation': 'fp16'} are not expected by StableUnCLIPImg2ImgPipeline and will be ignored.\n"
     ]
    },
    {
     "data": {
      "application/vnd.jupyter.widget-view+json": {
       "model_id": "43f5ad2c55cd49be9c0f6038f0573df8",
       "version_major": 2,
       "version_minor": 0
      },
      "text/plain": [
       "Loading pipeline components...:   0%|          | 0/9 [00:00<?, ?it/s]"
      ]
     },
     "metadata": {},
     "output_type": "display_data"
    },
    {
     "name": "stderr",
     "output_type": "stream",
     "text": [
      "/home/haselab/miniconda3/envs/apap/lib/python3.12/site-packages/transformers/tokenization_utils_base.py:1601: FutureWarning: `clean_up_tokenization_spaces` was not set. It will be set to `True` by default. This behavior will be depracted in transformers v4.45, and will be then set to `False` by default. For more details check this issue: https://github.com/huggingface/transformers/issues/31884\n",
      "  warnings.warn(\n"
     ]
    }
   ],
   "source": [
    "# Load model\n",
    "model_name = \"stabilityai/stable-diffusion-2-1-unclip\"\n",
    "pipe = StableUnCLIPImg2ImgPipeline.from_pretrained(\n",
    "    model_name, torch_dtype=torch.float16, variation=\"fp16\"\n",
    ")\n",
    "pipe = pipe.to(device)"
   ]
  },
  {
   "cell_type": "code",
   "execution_count": 7,
   "metadata": {},
   "outputs": [],
   "source": [
    "def calculate_image_embeds(pipe: StableUnCLIPImg2ImgPipeline, input_image: Image.Image) -> torch.Tensor:\n",
    "    \"\"\"Calculate image embeddings using the image encoder of the pipeline.\n",
    "    Args:\n",
    "        pipe: The pipeline object.\n",
    "        input_image: The input image.\n",
    "    Returns:\n",
    "        torch.Tensor: The image embeddings. shape of (1, 1024).\n",
    "    \"\"\"\n",
    "    # Preprocess image\n",
    "    image = pipe.feature_extractor(images=input_image, return_tensors=\"pt\").pixel_values\n",
    "    image = image.to(device)\n",
    "\n",
    "    image_embeds = pipe.image_encoder(image).image_embeds\n",
    "    return image_embeds"
   ]
  },
  {
   "cell_type": "code",
   "execution_count": 9,
   "metadata": {},
   "outputs": [
    {
     "name": "stderr",
     "output_type": "stream",
     "text": [
      "  0%|          | 0/3680 [00:00<?, ?it/s]"
     ]
    },
    {
     "name": "stderr",
     "output_type": "stream",
     "text": [
      "100%|██████████| 3680/3680 [00:06<00:00, 584.50it/s]\n"
     ]
    }
   ],
   "source": [
    "dataset = PetsDataset(\n",
    "    \"../data\",\n",
    "    transform=None,\n",
    ")\n",
    "pets_cls_dict = {}\n",
    "\n",
    "prev_key = None\n",
    "for i, item in tqdm(enumerate(dataset), total=len(dataset)):\n",
    "    key = item[\"path\"].split(\"/\")[-1].split(\"_\")[0]\n",
    "    if prev_key is None:\n",
    "        prev_key = key\n",
    "        pets_cls_dict[key] = []\n",
    "    \n",
    "    if prev_key != key:\n",
    "        prev_key = key\n",
    "        pets_cls_dict[key] = []\n",
    "        \n",
    "    pets_cls_dict[prev_key].append(i)"
   ]
  },
  {
   "cell_type": "code",
   "execution_count": 10,
   "metadata": {},
   "outputs": [
    {
     "data": {
      "text/plain": [
       "dict_keys(['Abyssinian', 'american', 'basset', 'beagle', 'Bengal', 'Birman', 'Bombay', 'boxer', 'British', 'chihuahua', 'Egyptian', 'english', 'german', 'great', 'havanese', 'japanese', 'keeshond', 'leonberger', 'Maine', 'miniature', 'newfoundland', 'Persian', 'pomeranian', 'pug', 'Ragdoll', 'Russian', 'saint', 'samoyed', 'scottish', 'shiba', 'Siamese', 'Sphynx', 'staffordshire', 'wheaten', 'yorkshire'])"
      ]
     },
     "execution_count": 10,
     "metadata": {},
     "output_type": "execute_result"
    }
   ],
   "source": [
    "pets_cls_dict.keys()"
   ]
  },
  {
   "cell_type": "code",
   "execution_count": 11,
   "metadata": {},
   "outputs": [],
   "source": [
    "def apply_tsne(embeds: torch.Tensor, n_components: int = 2) -> np.ndarray:\n",
    "    \"\"\"Apply t-SNE to the embeddings.\n",
    "    Args:\n",
    "        embeds: The embeddings. shape of (num_samples, embed_dim).\n",
    "        n_components: The number of components.\n",
    "    Returns:\n",
    "        np.ndarray: The 2D embeddings.\n",
    "    \"\"\"\n",
    "    from sklearn.manifold import TSNE\n",
    "\n",
    "    tsne = TSNE(n_components=n_components, random_state=0)\n",
    "    embeds_2d = tsne.fit_transform(embeds)\n",
    "    return embeds_2d\n",
    "\n",
    "def apply_pca(embeds: torch.Tensor, n_components: int = 2) -> np.ndarray:\n",
    "    \"\"\"Apply PCA to the embeddings.\n",
    "    Args:\n",
    "        embeds: The embeddings. shape of (num_samples, embed_dim).\n",
    "        n_components: The number of components.\n",
    "    Returns:\n",
    "        np.ndarray: The 2D embeddings.\n",
    "    \"\"\"\n",
    "    from sklearn.decomposition import PCA\n",
    "\n",
    "    pca = PCA(n_components=n_components)\n",
    "    embeds_2d = pca.fit_transform(embeds)\n",
    "    return embeds_2d\n",
    "\n",
    "def apply_umap(embeds: torch.Tensor, n_components: int = 2) -> np.ndarray:\n",
    "    \"\"\"Apply UMAP to the embeddings.\n",
    "    Args:\n",
    "        embeds: The embeddings. shape of (num_samples, embed_dim).\n",
    "        n_components: The number of components.\n",
    "    Returns:\n",
    "        np.ndarray: The 2D embeddings.\n",
    "    \"\"\"\n",
    "    import umap\n",
    "\n",
    "    reducer = umap.UMAP(n_components=n_components)\n",
    "    embeds_2d = reducer.fit_transform(embeds)\n",
    "    return embeds_2d"
   ]
  },
  {
   "cell_type": "code",
   "execution_count": 12,
   "metadata": {},
   "outputs": [],
   "source": [
    "# generate text embeddings\n",
    "def calculate_text_embeds(pipe: StableUnCLIPImg2ImgPipeline, text: str) -> torch.Tensor:\n",
    "    \"\"\"Calculate text embeddings using the text encoder of the pipeline.\n",
    "    Args:\n",
    "        pipe: The pipeline object.\n",
    "        text: The input text.\n",
    "    Returns:\n",
    "        torch.Tensor: The text embeddings. shape of (1, 1024).\n",
    "    \"\"\"\n",
    "    text_inputs = pipe.tokenizer(\n",
    "        text,\n",
    "        padding=\"max_length\",\n",
    "        max_length=pipe.tokenizer.model_max_length,\n",
    "        truncation=True,\n",
    "        return_tensors=\"pt\",\n",
    "    )\n",
    "    text_input_ids = text_inputs.input_ids.to(device)\n",
    "    text_embeds = pipe.text_encoder(text_input_ids).pooler_output\n",
    "    text_embeds = pipe.text_encoder.text_model.final_layer_norm(text_embeds)\n",
    "    \n",
    "    return text_embeds"
   ]
  },
  {
   "cell_type": "code",
   "execution_count": 13,
   "metadata": {},
   "outputs": [],
   "source": [
    "import base64\n",
    "import requests\n",
    "from json import JSONDecodeError\n",
    "def encode_image(image_path):\n",
    "  with open(image_path, \"rb\") as image_file:\n",
    "    return base64.b64encode(image_file.read()).decode('utf-8')\n",
    "\n",
    "def generate_captions(\n",
    "    llm: str,\n",
    "    clsname: str,\n",
    "    num_real_samples: int,\n",
    "    is_visual: bool = True,\n",
    "    image_paths: list = None,\n",
    "):\n",
    "    client = OpenAI()\n",
    "    if not is_visual:\n",
    "        while True:\n",
    "            response = client.chat.completions.create(\n",
    "                model=llm,\n",
    "                messages=[\n",
    "                    {\"role\": \"system\", \"content\": f\"Generate captions for {clsname} images. Specify detail visual attributes. You have to generate {num_real_samples} captions seperated by '|'. For example, 'A cat with blue eyes and white fur.'\"},\n",
    "                ]\n",
    "            )\n",
    "            output = response.choices[0].message.content\n",
    "            gen_captions = output.split(\"|\")\n",
    "            if len(gen_captions) == num_real_samples:\n",
    "                break\n",
    "            else:\n",
    "                print(\"Re-try generating captions.\")\n",
    "    else:\n",
    "        assert image_paths is not None, \"Please provide image paths.\"\n",
    "        headers = {\n",
    "            \"Content-Type\": \"application/json\",\n",
    "            \"Authorization\": f\"Bearer {os.environ['OPENAI_API_KEY']}\",\n",
    "        }\n",
    "        gen_captions = []\n",
    "        for path in tqdm(image_paths):\n",
    "            while True:\n",
    "                base64_image = encode_image(path)\n",
    "                payload = {\n",
    "                    \"model\": f\"{llm}\",\n",
    "                    \"messages\": [\n",
    "                        {\n",
    "                        \"role\": \"user\",\n",
    "                        \"content\": [\n",
    "                            {\n",
    "                            \"type\": \"text\",\n",
    "                            \"text\": \"Please generate a caption for this image. Specify detail visual attributes. Describe the image in detail.\"\n",
    "                            },\n",
    "                            {\n",
    "                            \"type\": \"image_url\",\n",
    "                            \"image_url\": {\n",
    "                                \"url\": f\"data:image/jpeg;base64,{base64_image}\"\n",
    "                            }\n",
    "                            }\n",
    "                        ]\n",
    "                        }\n",
    "                    ],\n",
    "                    \"max_tokens\": 300\n",
    "                }\n",
    "                response = requests.post(\n",
    "                    \"https://api.openai.com/v1/chat/completions\", headers=headers, json=payload\n",
    "                )\n",
    "                try:\n",
    "                    output = response.json()[\"choices\"][0][\"message\"][\"content\"]\n",
    "                    break\n",
    "                except JSONDecodeError:\n",
    "                    print(response.json())\n",
    "                    print(\"Re-try generating captions.\")\n",
    "                    continue\n",
    "            output = response.json()[\"choices\"][0][\"message\"][\"content\"]\n",
    "            gen_captions.append(output)\n",
    "    return gen_captions"
   ]
  },
  {
   "cell_type": "code",
   "execution_count": 14,
   "metadata": {},
   "outputs": [],
   "source": [
    "def calculate_embeds(\n",
    "    pets_cls_dict: dict,\n",
    "    clsname: str, \n",
    "    pipe: StableUnCLIPImg2ImgPipeline,\n",
    "    dataset: PetsDataset,\n",
    "    llm: str = \"gpt-4o-mini\",\n",
    "    is_visual: bool = False,\n",
    "):\n",
    "    picked_cls_idx = pets_cls_dict[clsname]\n",
    "    image_paths = [dataset[idx][\"path\"] for idx in picked_cls_idx]\n",
    "    num_real_samples = len(picked_cls_idx)\n",
    "    \n",
    "    # Calculate image embeddings\n",
    "    print(\"Calculating image embeddings...\")\n",
    "    image_embeds = []\n",
    "    for i in tqdm(range(num_real_samples)):\n",
    "        idx = picked_cls_idx[i]\n",
    "        item = dataset[idx]\n",
    "\n",
    "        image = item[\"image\"]\n",
    "        image_embeds.append(calculate_image_embeds(pipe, image))\n",
    "    image_embeds = torch.cat(image_embeds, dim=0).cpu().detach()  # (num_real_samples, 1024)\n",
    "    \n",
    "    # Generate captions by asking LLM\n",
    "    print(f\"Generating {len(picked_cls_idx)} captions...\")\n",
    "    gen_captions = generate_captions(llm, clsname, num_real_samples, is_visual, image_paths)\n",
    "    \n",
    "    # Calculate text embeddings\n",
    "    print(\"Calculating text embeddings...\")\n",
    "    text_embeds = []\n",
    "    for i in tqdm(range(num_real_samples)):\n",
    "        text = gen_captions[i]\n",
    "        text_embeds.append(calculate_text_embeds(pipe, text))\n",
    "    text_embeds = torch.cat(text_embeds, dim=0).cpu().detach()  # (num_real_samples, 1024)\n",
    "      \n",
    "    return {\n",
    "        \"img_embeds\": image_embeds, \n",
    "        \"text_embeds\": text_embeds,\n",
    "        \"gen_captions\": gen_captions\n",
    "    }\n",
    "    \n",
    "def apply_reduction(embeds: torch.Tensor, reduction_algo: str = \"tsne\") -> np.ndarray:\n",
    "    if reduction_algo == \"tsne\":\n",
    "        embeds_2d = apply_tsne(embeds)\n",
    "    elif reduction_algo == \"pca\":\n",
    "        embeds_2d = apply_pca(embeds)\n",
    "    elif reduction_algo == \"umap\":\n",
    "        embeds_2d = apply_umap(embeds)\n",
    "    else:\n",
    "        raise ValueError(f\"Invalid reduction algorithm: {reduction_algo}\")\n",
    "    return embeds_2d"
   ]
  },
  {
   "cell_type": "code",
   "execution_count": 16,
   "metadata": {},
   "outputs": [
    {
     "name": "stdout",
     "output_type": "stream",
     "text": [
      "Calculating image embeddings...\n"
     ]
    },
    {
     "name": "stderr",
     "output_type": "stream",
     "text": [
      "100%|██████████| 50/50 [00:01<00:00, 43.58it/s]\n"
     ]
    },
    {
     "name": "stdout",
     "output_type": "stream",
     "text": [
      "Generating 50 captions...\n",
      "Calculating text embeddings...\n"
     ]
    },
    {
     "name": "stderr",
     "output_type": "stream",
     "text": [
      "100%|██████████| 50/50 [00:00<00:00, 79.58it/s]\n"
     ]
    },
    {
     "name": "stdout",
     "output_type": "stream",
     "text": [
      "Class: yorkshire\n",
      "Calculating image embeddings...\n"
     ]
    },
    {
     "name": "stderr",
     "output_type": "stream",
     "text": [
      "100%|██████████| 50/50 [00:01<00:00, 40.86it/s]\n"
     ]
    },
    {
     "name": "stdout",
     "output_type": "stream",
     "text": [
      "Generating 50 captions...\n",
      "Calculating text embeddings...\n"
     ]
    },
    {
     "name": "stderr",
     "output_type": "stream",
     "text": [
      "100%|██████████| 50/50 [00:00<00:00, 80.73it/s]\n"
     ]
    },
    {
     "name": "stdout",
     "output_type": "stream",
     "text": [
      "Class: staffordshire\n",
      "Calculating image embeddings...\n"
     ]
    },
    {
     "name": "stderr",
     "output_type": "stream",
     "text": [
      "100%|██████████| 50/50 [00:01<00:00, 39.92it/s]\n"
     ]
    },
    {
     "name": "stdout",
     "output_type": "stream",
     "text": [
      "Generating 50 captions...\n",
      "Calculating text embeddings...\n"
     ]
    },
    {
     "name": "stderr",
     "output_type": "stream",
     "text": [
      "100%|██████████| 50/50 [00:00<00:00, 82.79it/s]\n"
     ]
    },
    {
     "name": "stdout",
     "output_type": "stream",
     "text": [
      "Class: pomeranian\n",
      "Calculating image embeddings...\n"
     ]
    },
    {
     "name": "stderr",
     "output_type": "stream",
     "text": [
      "100%|██████████| 50/50 [00:01<00:00, 44.03it/s]\n"
     ]
    },
    {
     "name": "stdout",
     "output_type": "stream",
     "text": [
      "Generating 50 captions...\n",
      "Calculating text embeddings...\n"
     ]
    },
    {
     "name": "stderr",
     "output_type": "stream",
     "text": [
      "100%|██████████| 50/50 [00:00<00:00, 82.11it/s]\n"
     ]
    },
    {
     "name": "stdout",
     "output_type": "stream",
     "text": [
      "Class: Persian\n"
     ]
    }
   ],
   "source": [
    "clslist = [\"yorkshire\", \"staffordshire\", \"pomeranian\", \"Persian\"]\n",
    "embeds_dict = {}\n",
    "captoins_dict = {}\n",
    "\n",
    "for clsname in clslist:\n",
    "    embeds = calculate_embeds(pets_cls_dict, clsname, pipe, dataset, llm=\"gpt-4o-mini\",  is_visual=False)\n",
    "    print(f\"Class: {clsname}\")\n",
    "    img_embeds, text_embeds = embeds[\"img_embeds\"], embeds[\"text_embeds\"]\n",
    "    embeds_dict[clsname] = {\n",
    "        \"image_embeds\": img_embeds,\n",
    "        \"text_embeds\": text_embeds,\n",
    "    }"
   ]
  },
  {
   "cell_type": "code",
   "execution_count": 18,
   "metadata": {},
   "outputs": [],
   "source": [
    "reduction_algo = \"tsne\"\n",
    "reduction_embeds_dict = {}\n",
    "for clsname, embeds in embeds_dict.items():\n",
    "    img_embeds = embeds[\"image_embeds\"]\n",
    "    text_embeds = embeds[\"text_embeds\"]\n",
    "    img_embeds_2d = apply_reduction(img_embeds, reduction_algo=reduction_algo)\n",
    "    text_embeds_2d = apply_reduction(text_embeds, reduction_algo=reduction_algo)\n",
    "    \n",
    "    reduction_embeds_dict[clsname] = {\n",
    "        \"image_embeds_2d\": img_embeds_2d,\n",
    "        \"text_embeds_2d\": text_embeds_2d,\n",
    "    }"
   ]
  },
  {
   "cell_type": "code",
   "execution_count": 19,
   "metadata": {},
   "outputs": [
    {
     "name": "stderr",
     "output_type": "stream",
     "text": [
      "/tmp/ipykernel_1879655/2060227516.py:10: MatplotlibDeprecationWarning: The get_cmap function was deprecated in Matplotlib 3.7 and will be removed in 3.11. Use ``matplotlib.colormaps[name]`` or ``matplotlib.colormaps.get_cmap()`` or ``pyplot.get_cmap()`` instead.\n",
      "  cmap_cls = plt.cm.get_cmap(\"tab10\", len(clslist))\n"
     ]
    },
    {
     "data": {
      "image/png": "[encoded data removed]",
      "text/plain": [
       "<Figure size 1000x1000 with 1 Axes>"
      ]
     },
     "metadata": {},
     "output_type": "display_data"
    }
   ],
   "source": [
    "# Plot the embeddings \n",
    "# Image embeddings => circle markers\n",
    "# Text embeddings => square markers\n",
    "# Different colors for different classes\n",
    "\n",
    "import matplotlib.pyplot as plt\n",
    "\n",
    "def plot_embeddings(embeds_dict: dict, clslist: list):\n",
    "    fig, ax = plt.subplots(1, 1, figsize=(10, 10))\n",
    "    cmap_cls = plt.cm.get_cmap(\"tab10\", len(clslist))\n",
    "    for i, clsname in enumerate(clslist):\n",
    "        color = cmap_cls(i)\n",
    "        img_embeds = reduction_embeds_dict[clsname][\"image_embeds_2d\"]\n",
    "        text_embeds = reduction_embeds_dict[clsname][\"text_embeds_2d\"]\n",
    "        \n",
    "        ax.scatter(img_embeds[:, 0], img_embeds[:, 1], label=f\"{clsname} (Image)\", marker=\"o\", s=100, alpha=0.8, c=[color])\n",
    "        ax.scatter(text_embeds[:, 0], text_embeds[:, 1], label=f\"{clsname} (Text)\", marker=\"s\", s=100, alpha=0.8, c=[color])\n",
    "    ax.legend()\n",
    "    plt.show()\n",
    "\n",
    "plot_embeddings(embeds_dict, clslist)"
   ]
  },
  {
   "cell_type": "code",
   "execution_count": 20,
   "metadata": {},
   "outputs": [
    {
     "ename": "AttributeError",
     "evalue": "'StableUnCLIPImg2ImgPipeline' object has no attribute 'generate_images_from_text'",
     "output_type": "error",
     "traceback": [
      "\u001b[0;31m---------------------------------------------------------------------------\u001b[0m",
      "\u001b[0;31mAttributeError\u001b[0m                            Traceback (most recent call last)",
      "Cell \u001b[0;32mIn[20], line 38\u001b[0m\n\u001b[1;32m     35\u001b[0m     generated_images \u001b[38;5;241m=\u001b[39m pipe\u001b[38;5;241m.\u001b[39mgenerate_images_from_text(text_input_ids, num_samples\u001b[38;5;241m=\u001b[39mnum_samples)\n\u001b[1;32m     36\u001b[0m     \u001b[38;5;28;01mreturn\u001b[39;00m generated_images\n\u001b[0;32m---> 38\u001b[0m generated_images \u001b[38;5;241m=\u001b[39m \u001b[43mgenerate_images_from_text\u001b[49m\u001b[43m(\u001b[49m\u001b[43mpipe\u001b[49m\u001b[43m,\u001b[49m\u001b[43m \u001b[49m\u001b[38;5;124;43m\"\u001b[39;49m\u001b[38;5;124;43mA cat with blue eyes and white fur.\u001b[39;49m\u001b[38;5;124;43m\"\u001b[39;49m\u001b[43m,\u001b[49m\u001b[43m \u001b[49m\u001b[43mnum_samples\u001b[49m\u001b[38;5;241;43m=\u001b[39;49m\u001b[38;5;241;43m1\u001b[39;49m\u001b[43m)\u001b[49m\n",
      "Cell \u001b[0;32mIn[20], line 35\u001b[0m, in \u001b[0;36mgenerate_images_from_text\u001b[0;34m(pipe, text, num_samples)\u001b[0m\n\u001b[1;32m     27\u001b[0m text_inputs \u001b[38;5;241m=\u001b[39m pipe\u001b[38;5;241m.\u001b[39mtokenizer(\n\u001b[1;32m     28\u001b[0m     text,\n\u001b[1;32m     29\u001b[0m     padding\u001b[38;5;241m=\u001b[39m\u001b[38;5;124m\"\u001b[39m\u001b[38;5;124mmax_length\u001b[39m\u001b[38;5;124m\"\u001b[39m,\n\u001b[0;32m   (...)\u001b[0m\n\u001b[1;32m     32\u001b[0m     return_tensors\u001b[38;5;241m=\u001b[39m\u001b[38;5;124m\"\u001b[39m\u001b[38;5;124mpt\u001b[39m\u001b[38;5;124m\"\u001b[39m,\n\u001b[1;32m     33\u001b[0m )\n\u001b[1;32m     34\u001b[0m text_input_ids \u001b[38;5;241m=\u001b[39m text_inputs\u001b[38;5;241m.\u001b[39minput_ids\u001b[38;5;241m.\u001b[39mto(device)\n\u001b[0;32m---> 35\u001b[0m generated_images \u001b[38;5;241m=\u001b[39m \u001b[43mpipe\u001b[49m\u001b[38;5;241;43m.\u001b[39;49m\u001b[43mgenerate_images_from_text\u001b[49m(text_input_ids, num_samples\u001b[38;5;241m=\u001b[39mnum_samples)\n\u001b[1;32m     36\u001b[0m \u001b[38;5;28;01mreturn\u001b[39;00m generated_images\n",
      "File \u001b[0;32m~/miniconda3/envs/apap/lib/python3.12/site-packages/diffusers/configuration_utils.py:143\u001b[0m, in \u001b[0;36mConfigMixin.__getattr__\u001b[0;34m(self, name)\u001b[0m\n\u001b[1;32m    140\u001b[0m     deprecate(\u001b[38;5;124m\"\u001b[39m\u001b[38;5;124mdirect config name access\u001b[39m\u001b[38;5;124m\"\u001b[39m, \u001b[38;5;124m\"\u001b[39m\u001b[38;5;124m1.0.0\u001b[39m\u001b[38;5;124m\"\u001b[39m, deprecation_message, standard_warn\u001b[38;5;241m=\u001b[39m\u001b[38;5;28;01mFalse\u001b[39;00m)\n\u001b[1;32m    141\u001b[0m     \u001b[38;5;28;01mreturn\u001b[39;00m \u001b[38;5;28mself\u001b[39m\u001b[38;5;241m.\u001b[39m_internal_dict[name]\n\u001b[0;32m--> 143\u001b[0m \u001b[38;5;28;01mraise\u001b[39;00m \u001b[38;5;167;01mAttributeError\u001b[39;00m(\u001b[38;5;124mf\u001b[39m\u001b[38;5;124m\"\u001b[39m\u001b[38;5;124m'\u001b[39m\u001b[38;5;132;01m{\u001b[39;00m\u001b[38;5;28mtype\u001b[39m(\u001b[38;5;28mself\u001b[39m)\u001b[38;5;241m.\u001b[39m\u001b[38;5;18m__name__\u001b[39m\u001b[38;5;132;01m}\u001b[39;00m\u001b[38;5;124m'\u001b[39m\u001b[38;5;124m object has no attribute \u001b[39m\u001b[38;5;124m'\u001b[39m\u001b[38;5;132;01m{\u001b[39;00mname\u001b[38;5;132;01m}\u001b[39;00m\u001b[38;5;124m'\u001b[39m\u001b[38;5;124m\"\u001b[39m)\n",
      "\u001b[0;31mAttributeError\u001b[0m: 'StableUnCLIPImg2ImgPipeline' object has no attribute 'generate_images_from_text'"
     ]
    }
   ],
   "source": [
    "# Generate images from text embeddings\n",
    "from sampling_functions import encode, sample, invert, \\\n",
    "    encode_image, encode_prompt, prepare_latents\n",
    "from torch import Tensor\n",
    "\n",
    "@torch.no_grad()\n",
    "def unclip_sampling(\n",
    "    pipe, \n",
    "    prompt: str,\n",
    "    num_inference_steps: int,\n",
    "    batch_size: int,\n",
    "    device: str,\n",
    "    num_samples: int=1,\n",
    "    guidance_scale: float=3.5,\n",
    "    noise_level: int = 0,\n",
    "    output_type: str=\"image\",\n",
    "    prefix=\"\",\n",
    "    height: int=None,\n",
    "    width: int=None,\n",
    ") -> np.ndarray:\n",
    "    do_classifier_free_guidance = guidance_scale > 0.0\n",
    "    # Get Height and Width\n",
    "    height = height or pipe.unet.config.sample_size * pipe.vae_scale_factor\n",
    "    width = width or pipe.unet.config.sample_size * pipe.vae_scale_factor\n",
    "\n",
    "    # Encode prompt\n",
    "    prompt_embeds, uncond_prompt_embeds = encode_prompt(pipe, prompt, batch_size, device, num_samples, do_classifier_free_guidance)\n",
    "    if do_classifier_free_guidance:\n",
    "        prompt_embeds = torch.cat([prompt_embeds, uncond_prompt_embeds])\n",
    "    \n",
    "    # Encode image\n",
    "    image_embeds = encode_image(pipe, images, device, batch_size, num_samples, do_classifier_free_guidance, noise_level, None)\n",
    "    image_embeds = image_embeds.to(device, dtype=prompt_embeds.dtype)\n",
    "    \n",
    "    # scheduler\n",
    "    pipe.scheduler.set_timesteps(num_inference_steps=num_inference_steps, device=device)\n",
    "    timesteps = pipe.scheduler.timesteps\n",
    "    \n",
    "    num_channels_latents = pipe.unet.config.in_channels\n",
    "    # Prepare latents\n",
    "    latents = prepare_latents(\n",
    "        pipe,\n",
    "        batch_size*num_samples, \n",
    "        num_channels_latents,\n",
    "        height,\n",
    "        width,\n",
    "        prompt_embeds.dtype,\n",
    "        device,\n",
    "        latents=None,\n",
    "    )\n",
    "    \n",
    "    print(f\"{prefix}: Sampling Images for {num_inference_steps} steps...\")\n",
    "    for i, t in enumerate(pipe.progress_bar(timesteps)):\n",
    "        latent_model_input = torch.cat([latents] * 2) if do_classifier_free_guidance else latents\n",
    "        latent_model_input = pipe.scheduler.scale_model_input(latent_model_input, t)\n",
    "\n",
    "        with torch.no_grad():\n",
    "            noise_pred = pipe.unet(\n",
    "                latent_model_input,\n",
    "                t,\n",
    "                encoder_hidden_states=prompt_embeds,\n",
    "                class_labels=image_embeds,\n",
    "                return_dict=False\n",
    "            )[0]\n",
    "        \n",
    "        if do_classifier_free_guidance:\n",
    "            noise_pred_uncond, noise_pred_text = noise_pred.chunk(2)\n",
    "            noise_pred = noise_pred_uncond + guidance_scale * (noise_pred_text - noise_pred_uncond)\n",
    "        \n",
    "        # compute the previous noisy sample x_t -> x_t-1\n",
    "        latents = pipe.scheduler.step(noise_pred, t, latents, return_dict=False)[0]\n",
    "\n",
    "    if not output_type == \"latent\":\n",
    "        images = pipe.vae.decode(latents / pipe.vae.config.scaling_factor, return_dict=False)[0]\n",
    "    else:\n",
    "        images = latents\n",
    "\n",
    "    images = images.cpu().detach()\n",
    "    images = pipe.image_processor.postprocess(images, output_type=output_type)\n",
    "    return images  # (B, C, H, W)"
   ]
  },
  {
   "cell_type": "code",
   "execution_count": null,
   "metadata": {},
   "outputs": [],
   "source": []
  }
 ],
 "metadata": {
  "kernelspec": {
   "display_name": "diffae",
   "language": "python",
   "name": "python3"
  },
  "language_info": {
   "codemirror_mode": {
    "name": "ipython",
    "version": 3
   },
   "file_extension": ".py",
   "mimetype": "text/x-python",
   "name": "python",
   "nbconvert_exporter": "python",
   "pygments_lexer": "ipython3",
   "version": "3.12.4"
  }
 },
 "nbformat": 4,
 "nbformat_minor": 2
}
